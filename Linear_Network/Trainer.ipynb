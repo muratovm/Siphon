{
 "cells": [
  {
   "cell_type": "code",
   "execution_count": 1,
   "metadata": {},
   "outputs": [
    {
     "name": "stdout",
     "output_type": "stream",
     "text": [
      "importing Jupyter notebook from Reservoir.ipynb\n",
      "importing Jupyter notebook from Model.ipynb\n"
     ]
    }
   ],
   "source": [
    "import import_ipynb\n",
    "from Reservoir import Reservoir\n",
    "\n",
    "import os\n",
    "import torch\n",
    "from skimage import io, transform\n",
    "import numpy as np\n",
    "import matplotlib.pyplot as plt\n",
    "from torch.utils.data import Dataset, DataLoader\n",
    "import torch.nn as nn\n",
    "import torch.nn.functional as F\n",
    "\n",
    "# Ignore warnings\n",
    "import warnings\n",
    "import time\n",
    "warnings.filterwarnings(\"ignore\")\n",
    "\n",
    "from Model import Model\n",
    "import torch.optim as optim\n",
    "\n",
    "\n",
    "from tqdm.notebook import tqdm_notebook"
   ]
  },
  {
   "cell_type": "code",
   "execution_count": 2,
   "metadata": {},
   "outputs": [],
   "source": [
    "from nvidia.dali.pipeline import Pipeline\n",
    "import nvidia.dali.ops as ops\n",
    "import nvidia.dali.types as types\n",
    "\n",
    "image_dir = \"data/images\"\n",
    "batch_size = 8\n",
    "\n",
    "class SimplePipeline(Pipeline):\n",
    "    def __init__(self, batch_size, num_threads, device_id):\n",
    "        super(SimplePipeline, self).__init__(batch_size, num_threads, device_id, seed = 12)\n",
    "        self.input = ops.FileReader(file_root = image_dir)\n",
    "        # instead of path to file directory file with pairs image_name image_label_value can be provided\n",
    "        # self.input = ops.FileReader(file_root = image_dir, file_list = image_dir + '/file_list.txt')\n",
    "        self.decode = ops.ImageDecoder(device = 'cpu', output_type = types.RGB)\n",
    "\n",
    "    def define_graph(self):\n",
    "        jpegs, labels = self.input()\n",
    "        images = self.decode(jpegs)\n",
    "        return (images, labels)"
   ]
  },
  {
   "cell_type": "code",
   "execution_count": 3,
   "metadata": {},
   "outputs": [],
   "source": [
    "class Trainer():\n",
    "    def __init__(self, model, dataset):\n",
    "        self.model = model\n",
    "        self.network = model.network\n",
    "        self.device = model.device\n",
    "        self.optimizer = model.optimizer\n",
    "        self.criterion = model.criterion\n",
    "        self.dataset = dataset\n",
    "        self.save_path = \"snapshots/{}_{:.5f}_weights.pt\"\n",
    "        \n",
    "        \n",
    "    def initializeEpoch(self):\n",
    "        self.summation = 0\n",
    "        self.val_summation = 0\n",
    "        self.validation_training = enumerate(self.dataset.training_pool.validloader)\n",
    "    \n",
    "    def fit(self, epochs, report_period, load_path):\n",
    "        \n",
    "        if load_path:\n",
    "            self.model.load_weights(load_path)\n",
    "            \n",
    "        \n",
    "        iters_trained = []\n",
    "        training_losses = []\n",
    "        validation_losses = []\n",
    "        count = 0\n",
    "        \n",
    "        for epoch in range(self.model.start_epoch, self.model.start_epoch+epochs):\n",
    "            self.initializeEpoch()\n",
    "            dataloader = self.dataset.training_pool.dataloader\n",
    "            for i_batch, sampled_batch in tqdm_notebook(enumerate(dataloader), total=len(dataloader)):\n",
    "                self.model.network.train()\n",
    "                images = sampled_batch['image'].float()\n",
    "                labels = sampled_batch['label'].long()\n",
    "                \n",
    "                #forward pass\n",
    "                self.optimizer.zero_grad()\n",
    "                prediction = self.model.network(images)\n",
    "                labels = labels.reshape((10,))\n",
    "                \n",
    "                #calculate loss\n",
    "                loss = self.criterion(prediction, labels)\n",
    "                \n",
    "                #backward pass\n",
    "                loss.backward()\n",
    "                self.optimizer.step()\n",
    "                \n",
    "                #get batch losses\n",
    "                val_i,batch = self.validationBatch()\n",
    "                val_loss = self.score(batch)\n",
    "                self.summation += float(loss)\n",
    "                self.val_summation += float(val_loss)\n",
    "                \n",
    "                if i_batch % report_period == 0:\n",
    "                    iters_trained.append(count)\n",
    "                    average_loss = round(self.summation/float(i_batch+1),5)\n",
    "                    average_val_loss = round(self.val_summation/float(i_batch+1),5)\n",
    "                    training_losses.append(average_loss)\n",
    "                    validation_losses.append(average_val_loss)\n",
    "                count += 1\n",
    "                \n",
    "                    \n",
    "            print(\"Epoch: \"+str(epoch))\n",
    "            print(\"Training Loss: \"+str(average_loss))\n",
    "            print(\"Validation Loss: \"+str(average_val_loss))\n",
    "            \n",
    "            self.model.save_weights(epoch, self.save_path.format(epoch,average_loss))\n",
    "            \n",
    "            plt.plot(iters_trained,training_losses, label=\"training\")\n",
    "            plt.plot(iters_trained,validation_losses, label=\"validation\")\n",
    "            plt.legend(bbox_to_anchor=(1.05, 1), loc='upper left', borderaxespad=0.)\n",
    "            plt.show()\n",
    "        return self.model\n",
    "            \n",
    "        \n",
    "        \n",
    "    def validationBatch(self):\n",
    "        try:\n",
    "            val_i,batch = next(self.validation_training)\n",
    "        except StopIteration:\n",
    "            self.validation_training = enumerate(self.dataset.training_pool.validloader)\n",
    "            val_i,batch = next(self.validation_training)\n",
    "        return val_i,batch\n",
    "        \n",
    "                \n",
    "    def score(self, sampled_batch):\n",
    "        self.model.network.eval()\n",
    "        #inputs and forward pass\n",
    "        images = sampled_batch['image'].float()\n",
    "        labels = sampled_batch['label'].long()\n",
    "        labels = labels.reshape((10,))\n",
    "\n",
    "        #forward pass\n",
    "        prediction = self.model.network(images)\n",
    "\n",
    "        #calculate loss\n",
    "        loss = self.criterion(prediction, labels)\n",
    "        torch.cuda.empty_cache()\n",
    "        return loss"
   ]
  },
  {
   "cell_type": "code",
   "execution_count": 4,
   "metadata": {},
   "outputs": [
    {
     "name": "stdout",
     "output_type": "stream",
     "text": [
      "start network\n",
      "units after conv 588\n",
      "fc parameters:  5890\n",
      "done network\n",
      "done init\n",
      "Total training stacks 5400\n",
      "Total validation stacks 600\n",
      "Total testing stacks 10000\n"
     ]
    },
    {
     "data": {
      "application/vnd.jupyter.widget-view+json": {
       "model_id": "9c327e0909394d2e9c4ce0c42d9dcd0c",
       "version_major": 2,
       "version_minor": 0
      },
      "text/plain": [
       "HBox(children=(HTML(value=''), FloatProgress(value=0.0, max=5400.0), HTML(value='')))"
      ]
     },
     "metadata": {},
     "output_type": "display_data"
    },
    {
     "name": "stdout",
     "output_type": "stream",
     "text": [
      "\n",
      "Epoch: 0\n",
      "Training Loss: 0.23827\n",
      "Validation Loss: 0.19277\n"
     ]
    },
    {
     "data": {
      "image/png": "[encoded data removed]",
      "text/plain": [
       "<Figure size 432x288 with 1 Axes>"
      ]
     },
     "metadata": {
      "needs_background": "light"
     },
     "output_type": "display_data"
    }
   ],
   "source": [
    "if __name__ == \"__main__\":\n",
    "\n",
    "    device = torch.device('cuda' if torch.cuda.is_available() else 'cpu')\n",
    "    outputs = 10\n",
    "    image_shape = [1,28,28]\n",
    "    \n",
    "    model = Model(device)\n",
    "    dataset = Reservoir(\"./data/training/images/train-images-idx3-ubyte.gz\",\n",
    "                        \"./data/training/labels/train-labels-idx1-ubyte.gz\",\n",
    "                        \"./data/testing/images/t10k-images-idx3-ubyte.gz\",\n",
    "                        \"./data/testing/labels/t10k-labels-idx1-ubyte.gz\")\n",
    "    trainer = Trainer(model, dataset)\n",
    "    \n",
    "    epochs = 1\n",
    "    report_period = 100\n",
    "    trainer.fit(epochs, report_period,\"\")"
   ]
  },
  {
   "cell_type": "code",
   "execution_count": null,
   "metadata": {},
   "outputs": [],
   "source": []
  }
 ],
 "metadata": {
  "kernelspec": {
   "display_name": "Python 3",
   "language": "python",
   "name": "python3"
  },
  "language_info": {
   "codemirror_mode": {
    "name": "ipython",
    "version": 3
   },
   "file_extension": ".py",
   "mimetype": "text/x-python",
   "name": "python",
   "nbconvert_exporter": "python",
   "pygments_lexer": "ipython3",
   "version": "3.7.9"
  }
 },
 "nbformat": 4,
 "nbformat_minor": 2
}
